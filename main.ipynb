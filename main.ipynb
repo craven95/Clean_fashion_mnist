{
 "cells": [
  {
   "cell_type": "code",
   "execution_count": 23,
   "metadata": {},
   "outputs": [
    {
     "ename": "ModuleNotFoundError",
     "evalue": "No module named 'cleanlab.models'",
     "output_type": "error",
     "traceback": [
      "\u001b[0;31m---------------------------------------------------------------------------\u001b[0m",
      "\u001b[0;31mModuleNotFoundError\u001b[0m                       Traceback (most recent call last)",
      "Cell \u001b[0;32mIn[23], line 11\u001b[0m\n\u001b[1;32m      9\u001b[0m \u001b[39mfrom\u001b[39;00m \u001b[39mtensorflow\u001b[39;00m \u001b[39mimport\u001b[39;00m keras\n\u001b[1;32m     10\u001b[0m \u001b[39mfrom\u001b[39;00m \u001b[39mkeras\u001b[39;00m \u001b[39mimport\u001b[39;00m backend \u001b[39mas\u001b[39;00m K\n\u001b[0;32m---> 11\u001b[0m \u001b[39mfrom\u001b[39;00m \u001b[39mcleanlab\u001b[39;00m\u001b[39m.\u001b[39;00m\u001b[39mmodels\u001b[39;00m\u001b[39m.\u001b[39;00m\u001b[39mkeras\u001b[39;00m \u001b[39mimport\u001b[39;00m KerasWrapperSequential\n\u001b[1;32m     12\u001b[0m \u001b[39m# from torch import nn\u001b[39;00m\n",
      "\u001b[0;31mModuleNotFoundError\u001b[0m: No module named 'cleanlab.models'"
     ]
    }
   ],
   "source": [
    "## Import library\n",
    "\n",
    "import pandas as pd \n",
    "import keras\n",
    "import numpy as np\n",
    "import matplotlib.pyplot as plt\n",
    "from cleanlab.classification import CleanLearning\n",
    "import tensorflow as tf\n",
    "from tensorflow import keras\n",
    "from keras import backend as K\n",
    "from cleanlab import *\n",
    "# from torch import nn\n"
   ]
  },
  {
   "cell_type": "code",
   "execution_count": 2,
   "metadata": {},
   "outputs": [],
   "source": [
    "## Load the datas \n",
    "\n",
    "fmnist_test = pd.read_csv('fashion-mnist_test.csv')\n",
    "fmnist_train = pd.read_csv('fashion-mnist_train.csv')"
   ]
  },
  {
   "cell_type": "code",
   "execution_count": 3,
   "metadata": {},
   "outputs": [],
   "source": [
    "## Sort datas in x and y \n",
    "\n",
    "label_fmnist_test = fmnist_test.iloc[:,0]\n",
    "label_fmnist_train = fmnist_train.iloc[:,0]\n",
    "fmnist_test = fmnist_test.iloc[:,1:]\n",
    "fmnist_train = fmnist_train.iloc[:,1:]"
   ]
  },
  {
   "cell_type": "code",
   "execution_count": 4,
   "metadata": {},
   "outputs": [
    {
     "data": {
      "text/plain": [
       "(10000,)"
      ]
     },
     "execution_count": 4,
     "metadata": {},
     "output_type": "execute_result"
    }
   ],
   "source": [
    "##Our label is jsute a number,\n",
    "\n",
    "label_fmnist_test.shape"
   ]
  },
  {
   "cell_type": "code",
   "execution_count": 5,
   "metadata": {},
   "outputs": [],
   "source": [
    "## We create a vector for the output\n",
    "\n",
    "label_fmnist_test = keras.utils.to_categorical(label_fmnist_test, 10)\n",
    "label_fmnist_train = keras.utils.to_categorical(label_fmnist_train, 10)\n",
    "\n",
    "normalized_fmnist_test = fmnist_test /255\n",
    "normalized_fmnist_train = fmnist_train /255"
   ]
  },
  {
   "cell_type": "code",
   "execution_count": 6,
   "metadata": {},
   "outputs": [],
   "source": [
    "## We then constructs our pictures \n",
    "fashion_test = np.array(normalized_fmnist_test)\n",
    "fashion_test = fashion_test.reshape(-1,28,28,1)\n",
    "\n",
    "fashion_train = np.array(normalized_fmnist_train)\n",
    "fashion_train = fashion_train.reshape(-1,28,28,1)"
   ]
  },
  {
   "cell_type": "code",
   "execution_count": 7,
   "metadata": {},
   "outputs": [
    {
     "data": {
      "text/plain": [
       "<matplotlib.image.AxesImage at 0x7fb8d9e63460>"
      ]
     },
     "execution_count": 7,
     "metadata": {},
     "output_type": "execute_result"
    },
    {
     "data": {
      "image/png": "[encoded data removed]",
      "text/plain": [
       "<Figure size 432x288 with 1 Axes>"
      ]
     },
     "metadata": {
      "needs_background": "light"
     },
     "output_type": "display_data"
    }
   ],
   "source": [
    "## Show if its good \n",
    "exemple_image = fashion_test[77,:,:,0]\n",
    "plt.imshow(exemple_image, cmap='gray')"
   ]
  },
  {
   "cell_type": "code",
   "execution_count": 17,
   "metadata": {},
   "outputs": [],
   "source": [
    "#We can now construct the model. We use the Kerass Sequential API.\n",
    "\n",
    "model = KerasWrapperSequential()\n",
    "\n",
    "#First we are going to do Conv2D then pooling then flatten.\n",
    "#For the first test we use padding='valid' and strides=(1, 1) as classic Conv2D and without dropout.\n",
    "model.add(keras.layers.Conv2D(8, (3, 3), padding='valid',strides=(1, 1), input_shape=(28, 28, 1)))\n",
    "model.activation = 'relu'\n",
    "model.add(keras.layers.MaxPooling2D(pool_size=(2, 2)))\n",
    "# model.add(keras.layers.Dropout(0.1))\n",
    "\n",
    "model.add(keras.layers.Conv2D(16, (3, 3), padding='valid',strides=(1, 1)))\n",
    "model.activation = 'relu'\n",
    "model.add(keras.layers.MaxPooling2D(pool_size=(2, 2)))\n",
    "# model.add(keras.layers.Dropout(0.1))\n",
    "\n",
    "model.add(keras.layers.Flatten())\n",
    "\n",
    "#we add a dense layer with 10 neurons\n",
    "model.add(keras.layers.Dense(10))\n",
    "model.activation = 'relu'\n",
    "# model.add(keras.layers.Dropout(0.2))\n",
    "\n",
    "#We finallys add a dense layer with 10 neurons and softmax activation to have the probabilities for each class.\n",
    "model.add(keras.layers.Dense(10, activation='softmax'))"
   ]
  },
  {
   "cell_type": "code",
   "execution_count": 18,
   "metadata": {},
   "outputs": [],
   "source": [
    "model.compile(optimizer='adam',loss='mae',metrics=['accuracy'])"
   ]
  },
  {
   "cell_type": "code",
   "execution_count": 22,
   "metadata": {},
   "outputs": [
    {
     "name": "stdout",
     "output_type": "stream",
     "text": [
      "Learning rate is: 1e-04\n",
      "Epoch 1/10\n",
      "600/600 [==============================] - 5s 9ms/step - loss: 0.0590 - accuracy: 0.7071 - val_loss: 0.0588 - val_accuracy: 0.7076\n",
      "Epoch 2/10\n",
      "600/600 [==============================] - 7s 11ms/step - loss: 0.0588 - accuracy: 0.7083 - val_loss: 0.0587 - val_accuracy: 0.7090\n",
      "Epoch 3/10\n",
      "600/600 [==============================] - 7s 11ms/step - loss: 0.0587 - accuracy: 0.7087 - val_loss: 0.0587 - val_accuracy: 0.7083\n",
      "Epoch 4/10\n",
      "600/600 [==============================] - 7s 11ms/step - loss: 0.0586 - accuracy: 0.7095 - val_loss: 0.0586 - val_accuracy: 0.7099\n",
      "Epoch 5/10\n",
      "600/600 [==============================] - 6s 11ms/step - loss: 0.0585 - accuracy: 0.7098 - val_loss: 0.0585 - val_accuracy: 0.7100\n",
      "Epoch 6/10\n",
      "600/600 [==============================] - 6s 10ms/step - loss: 0.0585 - accuracy: 0.7095 - val_loss: 0.0585 - val_accuracy: 0.7094\n",
      "Epoch 7/10\n",
      "600/600 [==============================] - 6s 9ms/step - loss: 0.0584 - accuracy: 0.7104 - val_loss: 0.0584 - val_accuracy: 0.7086\n",
      "Epoch 8/10\n",
      "600/600 [==============================] - 6s 10ms/step - loss: 0.0583 - accuracy: 0.7109 - val_loss: 0.0584 - val_accuracy: 0.7105\n",
      "Epoch 9/10\n",
      "600/600 [==============================] - 6s 10ms/step - loss: 0.0583 - accuracy: 0.7113 - val_loss: 0.0584 - val_accuracy: 0.7094\n",
      "Epoch 10/10\n",
      "600/600 [==============================] - 5s 9ms/step - loss: 0.0582 - accuracy: 0.7113 - val_loss: 0.0583 - val_accuracy: 0.7103\n"
     ]
    }
   ],
   "source": [
    "#We must now fit the model : \n",
    "K.set_value(model.optimizer.learning_rate, 0.0001)\n",
    "print(\"Learning rate is:\", model.optimizer.learning_rate.numpy())\n",
    "\n",
    "history = model.fit(\n",
    "    fashion_train, label_fmnist_train,\n",
    "    validation_data=(fashion_test,label_fmnist_test),\n",
    "    batch_size=100, \n",
    "    epochs=10\n",
    ")"
   ]
  },
  {
   "cell_type": "code",
   "execution_count": null,
   "metadata": {},
   "outputs": [],
   "source": [
    "cl = CleanLearning(model)\n",
    "label_issues = cl.find_label_issues(fashion_train, label_fmnist_train)  # identify mislabeled examples\n",
    "\n",
    "cl.fit(fashion_train, label_fmnist_train, label_issues=label_issues)\n",
    "preds = cl.predict(fashion_test)  # predictions from a version of your model\n",
    "                               # trained on auto-cleaned data"
   ]
  },
  {
   "cell_type": "code",
   "execution_count": null,
   "metadata": {},
   "outputs": [],
   "source": []
  }
 ],
 "metadata": {
  "kernelspec": {
   "display_name": "base",
   "language": "python",
   "name": "python3"
  },
  "language_info": {
   "codemirror_mode": {
    "name": "ipython",
    "version": 3
   },
   "file_extension": ".py",
   "mimetype": "text/x-python",
   "name": "python",
   "nbconvert_exporter": "python",
   "pygments_lexer": "ipython3",
   "version": "3.9.12"
  },
  "orig_nbformat": 4,
  "vscode": {
   "interpreter": {
    "hash": "b278fd25739fd3dd28fbf117d82d6571fa2cfbc08b56ac88bdc5edd2731ded4b"
   }
  }
 },
 "nbformat": 4,
 "nbformat_minor": 2
}
