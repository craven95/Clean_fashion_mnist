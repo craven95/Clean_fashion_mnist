{
 "cells": [
  {
   "cell_type": "code",
   "execution_count": 3,
   "metadata": {},
   "outputs": [],
   "source": [
    "## Import library\n",
    "\n",
    "import pandas as pd \n",
    "# import keras\n",
    "import numpy as np\n",
    "import matplotlib.pyplot as plt\n",
    "from cleanlab.classification import CleanLearning\n",
    "# import tensorflow as tf\n",
    "# from tensorflow import keras\n",
    "# from keras import backend as K\n",
    "from cleanlab import *\n",
    "from torch import nn\n",
    "import torch as torch\n",
    "from skorch import NeuralNetClassifier\n",
    "from sklearn.model_selection import cross_val_predict\n",
    "from sklearn.metrics import accuracy_score\n",
    "from cleanlab.filter import find_label_issues\n"
   ]
  },
  {
   "cell_type": "code",
   "execution_count": 4,
   "metadata": {},
   "outputs": [],
   "source": [
    "## Load the datas \n",
    "\n",
    "fmnist_test = pd.read_csv('fashion-mnist_test.csv')\n",
    "fmnist_train = pd.read_csv('fashion-mnist_train.csv')"
   ]
  },
  {
   "cell_type": "code",
   "execution_count": 5,
   "metadata": {},
   "outputs": [],
   "source": [
    "## Sort datas in x and y \n",
    "\n",
    "label_fmnist_test = fmnist_test.iloc[:,0]\n",
    "label_fmnist_train = fmnist_train.iloc[:,0]\n",
    "fmnist_test = fmnist_test.iloc[:,1:]\n",
    "fmnist_train = fmnist_train.iloc[:,1:]"
   ]
  },
  {
   "cell_type": "code",
   "execution_count": 47,
   "metadata": {},
   "outputs": [],
   "source": [
    "##Our label is jsute a number,\n",
    "\n",
    "label_fmnist_test.shape\n",
    "Y_test = label_fmnist_test.to_numpy()\n",
    "Y_test = Y_test.astype('int32')\n",
    "# Y_test = torch.from_numpy(Y_test)\n",
    "# print(Y_test)"
   ]
  },
  {
   "cell_type": "code",
   "execution_count": 7,
   "metadata": {},
   "outputs": [],
   "source": [
    "## Normalize\n",
    "\n",
    "normalized_fmnist_test = fmnist_test /255\n",
    "normalized_fmnist_train = fmnist_train /255"
   ]
  },
  {
   "cell_type": "code",
   "execution_count": 8,
   "metadata": {},
   "outputs": [],
   "source": [
    "## We then constructs our pictures \n",
    "fashion_test = np.array(normalized_fmnist_test)\n",
    "fashion_test = fashion_test.reshape(len(fashion_test),1,28,28)\n",
    "fashion_test = fashion_test.astype('float32')\n",
    "\n",
    "fashion_train = np.array(normalized_fmnist_train)\n",
    "fashion_train = fashion_train.reshape(len(fashion_train),1,28,28)\n",
    "fashion_train = fashion_train.astype('float32')"
   ]
  },
  {
   "cell_type": "code",
   "execution_count": 9,
   "metadata": {},
   "outputs": [
    {
     "data": {
      "text/plain": [
       "<matplotlib.image.AxesImage at 0x7fb8ae122d00>"
      ]
     },
     "execution_count": 9,
     "metadata": {},
     "output_type": "execute_result"
    },
    {
     "data": {
      "image/png": "[encoded data removed]",
      "text/plain": [
       "<Figure size 432x288 with 1 Axes>"
      ]
     },
     "metadata": {
      "needs_background": "light"
     },
     "output_type": "display_data"
    }
   ],
   "source": [
    "## Show if its good \n",
    "exemple_image = fashion_test[77,0,:,:]\n",
    "plt.imshow(exemple_image, cmap='gray')"
   ]
  },
  {
   "cell_type": "code",
   "execution_count": 10,
   "metadata": {},
   "outputs": [],
   "source": [
    "class ClassifierModule(nn.Module):\n",
    "    def __init__(self):\n",
    "        super().__init__()\n",
    "\n",
    "        self.cnn = nn.Sequential(\n",
    "            nn.Conv2d(1, 6, 3),\n",
    "            nn.ReLU(),\n",
    "            nn.BatchNorm2d(6),\n",
    "            nn.MaxPool2d(kernel_size=2, stride=2),\n",
    "            nn.Conv2d(6, 16, 3),\n",
    "            nn.ReLU(),\n",
    "            nn.BatchNorm2d(16),\n",
    "            nn.MaxPool2d(kernel_size=2, stride=2),\n",
    "        )\n",
    "        self.out = nn.Sequential(\n",
    "            nn.Flatten(),\n",
    "            nn.LazyLinear(128),\n",
    "            nn.ReLU(),\n",
    "            nn.Linear(128, 10),\n",
    "            nn.Softmax(dim=-1),\n",
    "        )\n",
    "\n",
    "    def forward(self, X):\n",
    "        X = self.cnn(X)\n",
    "        X = self.out(X)\n",
    "        return X"
   ]
  },
  {
   "cell_type": "code",
   "execution_count": 11,
   "metadata": {},
   "outputs": [],
   "source": [
    "model_skorch = NeuralNetClassifier(ClassifierModule, max_epochs=50)"
   ]
  },
  {
   "cell_type": "code",
   "execution_count": 49,
   "metadata": {},
   "outputs": [
    {
     "data": {
      "text/plain": [
       "array([0, 1, 2, ..., 8, 8, 1], dtype=int32)"
      ]
     },
     "execution_count": 49,
     "metadata": {},
     "output_type": "execute_result"
    }
   ],
   "source": [
    "y = Y_test\n",
    "X = fashion_test\n",
    "y"
   ]
  },
  {
   "cell_type": "code",
   "execution_count": null,
   "metadata": {},
   "outputs": [],
   "source": [
    "\n",
    "num_crossval_folds = 5\n",
    "pred_probs = cross_val_predict(model_skorch, X, y,\n",
    "                               cv=num_crossval_folds,\n",
    "                               method='predict_proba')"
   ]
  },
  {
   "cell_type": "code",
   "execution_count": 50,
   "metadata": {},
   "outputs": [
    {
     "name": "stdout",
     "output_type": "stream",
     "text": [
      "Cross-validated estimate of accuracy on held-out data: 0.8487\n"
     ]
    }
   ],
   "source": [
    "\n",
    "predicted_labels = pred_probs.argmax(axis=1)\n",
    "acc = accuracy_score(y, predicted_labels)\n",
    "\n",
    "print(f\"Cross-validated estimate of accuracy on held-out data: {acc}\")"
   ]
  },
  {
   "cell_type": "code",
   "execution_count": 53,
   "metadata": {},
   "outputs": [
    {
     "name": "stdout",
     "output_type": "stream",
     "text": [
      "Cleanlab found 752 label issues.\n",
      "Here are the indices of the top 15 most likely label errors:\n",
      "[5232 8042 8950 1178 2128 5076 1585 3591 2313 2224 4989 6512 1961 3558\n",
      " 9330]\n"
     ]
    }
   ],
   "source": [
    "method = 'both'\n",
    "ranked_label_issues = find_label_issues(y, pred_probs,filter_by=method,return_indices_ranked_by=\"self_confidence\")\n",
    "\n",
    "print(f\"Cleanlab found {len(ranked_label_issues)} label issues.\")\n",
    "print(\"Here are the indices of the top 15 most likely label errors:\\n\"\n",
    "      f\"{ranked_label_issues[:15]}\")\n"
   ]
  },
  {
   "cell_type": "code",
   "execution_count": 60,
   "metadata": {},
   "outputs": [],
   "source": [
    "fashion_dico = {\n",
    "    '0':'T-shirt/top',\n",
    "    '1':'Trouser',\n",
    "    '2':'Pullover',\n",
    "    '3':'Dress',\n",
    "    '4':'Coat',\n",
    "    '5':'Sandal',\n",
    "    '6':'Shirt',\n",
    "    '7':'Sneaker',\n",
    "    '8':'Bag',\n",
    "    '9':'Ankle boot'\n",
    "}\n",
    "def plot_examples(id_iter, nrows=1, ncols=1):\n",
    "    for count, id in enumerate(id_iter):\n",
    "        plt.subplot(nrows, ncols, count + 1)\n",
    "        plt.imshow(X[id].reshape(28, 28), cmap=\"gray\")\n",
    "        fashion_id = str(y[id])\n",
    "        plt.title(f\"id: {id} \\n label: {fashion_dico[fashion_id]}\")\n",
    "        plt.axis(\"off\")\n",
    "\n",
    "    plt.tight_layout(h_pad=2.0)"
   ]
  },
  {
   "cell_type": "code",
   "execution_count": 61,
   "metadata": {},
   "outputs": [
    {
     "name": "stdout",
     "output_type": "stream",
     "text": [
      "3\n",
      "1\n",
      "6\n",
      "1\n",
      "0\n"
     ]
    },
    {
     "ename": "KeyError",
     "evalue": "'0'",
     "output_type": "error",
     "traceback": [
      "\u001b[0;31m---------------------------------------------------------------------------\u001b[0m",
      "\u001b[0;31mKeyError\u001b[0m                                  Traceback (most recent call last)",
      "Cell \u001b[0;32mIn[61], line 1\u001b[0m\n\u001b[0;32m----> 1\u001b[0m plot_examples(ranked_label_issues[\u001b[39mrange\u001b[39;49m(\u001b[39m15\u001b[39;49m)], \u001b[39m3\u001b[39;49m, \u001b[39m5\u001b[39;49m)\n",
      "Cell \u001b[0;32mIn[60], line 19\u001b[0m, in \u001b[0;36mplot_examples\u001b[0;34m(id_iter, nrows, ncols)\u001b[0m\n\u001b[1;32m     17\u001b[0m     fashion_id \u001b[39m=\u001b[39m \u001b[39mstr\u001b[39m(y[\u001b[39mid\u001b[39m])\n\u001b[1;32m     18\u001b[0m     \u001b[39mprint\u001b[39m(fashion_id)\n\u001b[0;32m---> 19\u001b[0m     plt\u001b[39m.\u001b[39mtitle(\u001b[39mf\u001b[39m\u001b[39m\"\u001b[39m\u001b[39mid: \u001b[39m\u001b[39m{\u001b[39;00m\u001b[39mid\u001b[39m\u001b[39m}\u001b[39;00m\u001b[39m \u001b[39m\u001b[39m\\n\u001b[39;00m\u001b[39m label: \u001b[39m\u001b[39m{\u001b[39;00mfashion_dico[fashion_id]\u001b[39m}\u001b[39;00m\u001b[39m\"\u001b[39m)\n\u001b[1;32m     20\u001b[0m     plt\u001b[39m.\u001b[39maxis(\u001b[39m\"\u001b[39m\u001b[39moff\u001b[39m\u001b[39m\"\u001b[39m)\n\u001b[1;32m     22\u001b[0m plt\u001b[39m.\u001b[39mtight_layout(h_pad\u001b[39m=\u001b[39m\u001b[39m2.0\u001b[39m)\n",
      "\u001b[0;31mKeyError\u001b[0m: '0'"
     ]
    },
    {
     "data": {
      "image/png": "[encoded data removed]",
      "text/plain": [
       "<Figure size 432x288 with 5 Axes>"
      ]
     },
     "metadata": {
      "needs_background": "light"
     },
     "output_type": "display_data"
    }
   ],
   "source": [
    "plot_examples(ranked_label_issues[range(15)], 3, 5)"
   ]
  },
  {
   "cell_type": "code",
   "execution_count": null,
   "metadata": {},
   "outputs": [],
   "source": []
  }
 ],
 "metadata": {
  "kernelspec": {
   "display_name": "base",
   "language": "python",
   "name": "python3"
  },
  "language_info": {
   "codemirror_mode": {
    "name": "ipython",
    "version": 3
   },
   "file_extension": ".py",
   "mimetype": "text/x-python",
   "name": "python",
   "nbconvert_exporter": "python",
   "pygments_lexer": "ipython3",
   "version": "3.9.12"
  },
  "orig_nbformat": 4,
  "vscode": {
   "interpreter": {
    "hash": "b278fd25739fd3dd28fbf117d82d6571fa2cfbc08b56ac88bdc5edd2731ded4b"
   }
  }
 },
 "nbformat": 4,
 "nbformat_minor": 2
}
